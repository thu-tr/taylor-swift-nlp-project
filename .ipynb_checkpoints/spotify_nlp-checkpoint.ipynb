{
 "cells": [
  {
   "cell_type": "code",
   "execution_count": 29,
   "id": "c0ca82b3",
   "metadata": {},
   "outputs": [],
   "source": [
    "import spotipy\n",
    "import json\n",
    "from spotipy.oauth2 import SpotifyClientCredentials"
   ]
  },
  {
   "cell_type": "code",
   "execution_count": 30,
   "id": "eab2fd75",
   "metadata": {
    "scrolled": true
   },
   "outputs": [],
   "source": [
    "# funtion authenticate reads spotify_crendetials.json to authenticate access to the api\n",
    "# return object Spotify\n",
    "\n",
    "def authenticate():\n",
    "    json_file = open(\"spotify_credentials.json\", \"r\")\n",
    "    creds = json.loads(json_file.read())\n",
    "    spotipy_client_id = creds[\"spotipy_client_id\"]\n",
    "    spotipy_client_secret = creds[\"spotipy_client_secret\"]\n",
    "    #print(spotipy_client_id)\n",
    "    auth_manager = SpotifyClientCredentials(client_id=spotipy_client_id, client_secret=spotipy_client_secret)\n",
    "    sp = spotipy.Spotify(auth_manager=auth_manager)\n",
    "    return sp\n"
   ]
  },
  {
   "cell_type": "code",
   "execution_count": 32,
   "id": "e7826428",
   "metadata": {
    "scrolled": true
   },
   "outputs": [
    {
     "name": "stdout",
     "output_type": "stream",
     "text": [
      "Portraits (+ Remixes)\n",
      "Portraits\n",
      "Young Heart\n",
      "Beautiful Lies\n",
      "Fire Within\n",
      "Live in London\n",
      "Birdy (Deluxe Version)\n",
      "Birdy\n"
     ]
    }
   ],
   "source": [
    "#testing space\n",
    "birdy_uri = 'spotify:artist:2WX2uTcsvV5OnS0inACecP'\n",
    "spotify = authenticate()\n",
    "results = spotify.artist_albums(birdy_uri, album_type='album')\n",
    "albums = results['items']\n",
    "while results['next']:\n",
    "    results = spotify.next(results)\n",
    "    albums.extend(results['items'])\n",
    "\n",
    "for album in albums:\n",
    "    print(album['name'])"
   ]
  },
  {
   "cell_type": "code",
   "execution_count": null,
   "id": "18f1fd5f",
   "metadata": {},
   "outputs": [],
   "source": []
  }
 ],
 "metadata": {
  "kernelspec": {
   "display_name": "Python 3 (ipykernel)",
   "language": "python",
   "name": "python3"
  },
  "language_info": {
   "codemirror_mode": {
    "name": "ipython",
    "version": 3
   },
   "file_extension": ".py",
   "mimetype": "text/x-python",
   "name": "python",
   "nbconvert_exporter": "python",
   "pygments_lexer": "ipython3",
   "version": "3.11.5"
  }
 },
 "nbformat": 4,
 "nbformat_minor": 5
}
